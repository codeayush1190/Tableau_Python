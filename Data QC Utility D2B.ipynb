{
 "cells": [
  {
   "cell_type": "markdown",
   "metadata": {},
   "source": [
    "QC Utility Dashboard to Database Code"
   ]
  },
  {
   "cell_type": "code",
   "execution_count": 33,
   "metadata": {},
   "outputs": [],
   "source": [
    "import os\n",
    "import pyodbc\n",
    "import numpy as np\n",
    "import pandas as pd\n",
    "from io import BytesIO\n",
    "from fuzzywuzzy import process\n",
    "import tableauserverclient as TSC"
   ]
  },
  {
   "cell_type": "code",
   "execution_count": 34,
   "metadata": {},
   "outputs": [],
   "source": [
    "def tableau_authentication(user_name, password, site_id, tableau_cloud_url):\n",
    "    tableau_auth = TSC.TableauAuth(user_name, password, site_id)  # Tableau Authentication details 'username', 'password' and 'site-id'\n",
    "    server = TSC.Server(tableau_cloud_url, use_server_version=True)  # Tableau server url\n",
    "    return tableau_auth, server  # Returning the variables"
   ]
  },
  {
   "cell_type": "code",
   "execution_count": 35,
   "metadata": {},
   "outputs": [],
   "source": [
    "\n",
    "def sql_data_download(server, database, username, password, query, output_file_path):\n",
    "    try:\n",
    "        connection_string = ( \n",
    "            f\"DRIVER={{ODBC Driver 17 for SQL Server}};\"\n",
    "            f\"SERVER={server};\"\n",
    "            f\"DATABASE={database};\"\n",
    "            f\"UID={username};\"\n",
    "            f\"PWD={password};\"\n",
    "        )\n",
    "        connection = pyodbc.connect(connection_string)  # Connecting to the database\n",
    "        df = pd.read_sql(query, connection)  # Reading the SQL database\n",
    "        chart_name = query.split('GROUP')[1].replace('Y', 'y')  # Extracting the chart name from the query\n",
    "        kpi_name = query.split(' ')[2].replace('SUM(', '').replace(')', '').strip()  # Extracting the KPI name from the query\n",
    "        name = (kpi_name + chart_name).replace(';', '')  # Namming the file to be saved\n",
    "        file_name = os.path.join(output_file_path, f\"{name}.xlsx\")  # Saved the file path\n",
    "        df.to_excel(file_name, index=False)  # Saving the file\n",
    "        connection.close()  # Closing the connection with the SQL database\n",
    "    except pyodbc.Error as e:\n",
    "        print(f\"Failed to connect or execute the query: {e}\")  # Throws a error message if the connection is not successful\n",
    "    except Exception as ex:\n",
    "        print(f\"An error occurred: {ex}\")\n",
    "    print(f\"Query results saved for {name}\")"
   ]
  },
  {
   "cell_type": "code",
   "execution_count": 36,
   "metadata": {},
   "outputs": [],
   "source": [
    "def download_parameter_data(workbook_name, parameter_name, parameter_value, save_location, tableau_auth, server):\n",
    "    with server.auth.sign_in(tableau_auth):  # Server login\n",
    "        all_workbooks, pagination_item = server.workbooks.get()  # Finds all the workbook present on the server\n",
    "        target_workbook = next((wb for wb in all_workbooks if wb.name == workbook_name), None)  # Matches with the target workbook\n",
    "        if not target_workbook:\n",
    "            raise ValueError(f\"Workbook {workbook_name} not found.\")\n",
    "        \n",
    "        server.workbooks.populate_views(target_workbook)  # Finds all the sheets present in the dashboard \n",
    "        for target_view in target_workbook.views:  # The loop goes through all the sheets present in the workbook one by one\n",
    "            sheet_name = target_view.name\n",
    "            options = TSC.CSVRequestOptions()\n",
    "            options.vf(parameter_name, parameter_value)  # Parameter is applied\n",
    "            try:\n",
    "                server.views.populate_csv(target_view, req_options=options)  # The sheet data is extracted\n",
    "            except TSC.ServerResponseError as e:\n",
    "                print(f\"Error querying data for Parameter {parameter_value}: {e}\")  # Error message if server does not respond\n",
    "                continue\n",
    "\n",
    "            csv_data = BytesIO(b''.join(target_view.csv))  # The sheet data is converted to csv format\n",
    "            df = pd.read_csv(csv_data)  # Read into pandas DataFrame\n",
    "            df = df.drop_duplicates()  # Remove duplicates to ensure clean data\n",
    "            file_name = os.path.join(save_location, f\"{parameter_value} {sheet_name}.xlsx\")  # Save each parameter's data into a separate Excel file\n",
    "            df.to_excel(file_name, index=False)  # Saves the file\n",
    "    print(f\"{parameter_value} data downloaded for {workbook_name} to location! \")"
   ]
  },
  {
   "cell_type": "code",
   "execution_count": 37,
   "metadata": {},
   "outputs": [],
   "source": [
    "def save_tableau_data(control_df, save_location, tableau_auth, server):\n",
    "    for f in range(len(control_df)):\n",
    "        workbook_name  = control_df.loc[f,'Dashboard']  # Targetted dashboard name\n",
    "        parameter_name = control_df.loc[f,'Parameter Name']  # Parameter in the workbook\n",
    "        parameter_value = control_df.loc[f,'Parameter Value']  # All the values of the parameter\n",
    "        if workbook_name is np.nan:  # Breaks the loop if the cell is empty in the Control_File.xlsx\n",
    "            break\n",
    "        else:\n",
    "            download_parameter_data(workbook_name, parameter_name, parameter_value, save_location, tableau_auth, server)  # Downloading the data"
   ]
  },
  {
   "cell_type": "code",
   "execution_count": 38,
   "metadata": {},
   "outputs": [],
   "source": [
    "def save_sql_data(control_df, server_address, database, username, password, save_location):\n",
    "    for f in range(len(control_df)):\n",
    "        query = control_df.loc[f, 'QC_Query']  # Passing the queries one by one to the function\n",
    "        \n",
    "        sql_data_download(server_address, database, username, password, query, save_location)  # Downloades the data according to the query passed"
   ]
  },
  {
   "cell_type": "code",
   "execution_count": 39,
   "metadata": {},
   "outputs": [],
   "source": [
    "def compare_data_by_measure(source_file_path, qc_file_path, file, compare_measure, column_name, output_path):\n",
    "    sdf = pd.read_excel(source_file_path)  # Reads the source data file\n",
    "    qcdf = pd.read_excel(qc_file_path)  # Reads the database data file\n",
    "    sdf = sdf.rename(columns={process.extractOne(compare_measure, sdf.columns)[0]: compare_measure,})  # Changes the column name to generalize\n",
    "    qcdf = qcdf.rename(columns={process.extractOne(compare_measure, qcdf.columns)[0]: compare_measure})  # Changes the column name to generalize\n",
    "    for col, df, file_name in [(compare_measure, sdf, file),  # Selecting the columns to be compared with respect to the measure they are categorized\n",
    "                               (\"Measure Calculation\", sdf, file), \n",
    "                               (compare_measure, qcdf, file), \n",
    "                               (column_name, qcdf, file)]:\n",
    "        if col not in df.columns:\n",
    "            raise ValueError(f\"Column '{col}' not found in {file_name}.\")\n",
    "    merged_df = pd.merge(sdf[[compare_measure, \"Measure Calculation\"]],  # Merging the data which does not match\n",
    "                         qcdf[[compare_measure, column_name]], \n",
    "                         on=compare_measure, \n",
    "                         how='outer',  \n",
    "                         suffixes=('_file1', '_file2'))\n",
    "    mismatched_rows = merged_df[merged_df[\"Measure Calculation\"] != merged_df[column_name]] \n",
    "    mismatched_rows.to_excel(output_path, index=False)  # Saving the file"
   ]
  },
  {
   "cell_type": "code",
   "execution_count": 40,
   "metadata": {},
   "outputs": [],
   "source": [
    "def compare_data(source_workbook_data_location, database_data_location, compared_data_location):\n",
    "    source_files = {f for f in os.listdir(source_workbook_data_location) if os.path.isfile(os.path.join(source_workbook_data_location, f))}  # Reading all the files in the source workbook data folder\n",
    "    qc_files = {f for f in os.listdir(database_data_location) if os.path.isfile(os.path.join(database_data_location, f))}  # Reading all the files in the source database data folder\n",
    "    for qc_file in qc_files:  \n",
    "        file_name = process.extractOne(qc_file, source_files)[0]  # Matching with the same file using the name of the file\n",
    "        source_file_path = os.path.join(source_workbook_data_location, file_name)  # Creating the path to read files\n",
    "        qc_file_path = os.path.join(database_data_location, qc_file)\n",
    "        compared_file_path = os.path.join(compared_data_location, f'{file_name}')\n",
    "        compare_measure = file_name.split(' ')[2].replace('.xlsx', '')  # Extracting the measure name for comparison\n",
    "        kpi_name = file_name.split(' ')[0]  # Extracting the KPI name to match with the column name\n",
    "        df = pd.read_excel(qc_file_path)\n",
    "        column_name = process.extractOne(kpi_name, df.columns)[0]  # Matching the KPI name with the column name in the database file\n",
    "        try:\n",
    "            compare_data_by_measure(source_file_path, qc_file_path, file_name, compare_measure, column_name, compared_file_path)  # Comparing and saving the results\n",
    "        except Exception as e:\n",
    "                print(f\"Error comparing '{file_name}': {e}\")\n",
    "    print(f\"Comparison result are saved!!\")\n",
    "            "
   ]
  },
  {
   "cell_type": "code",
   "execution_count": 41,
   "metadata": {},
   "outputs": [],
   "source": [
    "def output_feed(compared_data_location, output_file_location, database):\n",
    "    files = {f for f in os.listdir(compared_data_location) if os.path.isfile(os.path.join(compared_data_location, f))}  # Reading all the comparison results\n",
    "    diff_data = []  # Initialized an empty list to append the data\n",
    "    for file in files:\n",
    "        source_db = []  # Initialized an empty list to append the source workbook data points\n",
    "        qc_db = []  # Initialized an empty list to append the database data points\n",
    "        measure = []  # Initialized an empty list to append the measure name\n",
    "        file_path = os.path.join(compared_data_location, file)  # Created the file path\n",
    "        chart_name = file.replace('.xlsx', '').split(' ')[2]  # Extracting the chart name\n",
    "        measure_name = file.split(' ')[2].replace('.xlsx', '')  # Extracting the measure name\n",
    "        kpi_name = file.split(' ')[0]  # Extracting the KPI name\n",
    "        df = pd.read_excel(file_path)\n",
    "        column_name = process.extractOne(kpi_name, df.columns)[0]  # Matching with the column to read\n",
    "        sdb = df['Measure Calculation'].dropna()  # Extracting the values\n",
    "        qcdb = df[column_name].dropna()\n",
    "        measure_db = df[measure_name].dropna()  # Dropping the Null Values\n",
    "        for n in sdb:\n",
    "            source_db.append(float(n.replace(',', '')))  # Storing the one by one into a list by converting the data type to float\n",
    "        for n in qcdb:\n",
    "            qc_db.append(float(n))  # Storing the one by one into a list by converting the data type to float\n",
    "        for n in measure_db:\n",
    "            measure.append(n)\n",
    "        for i in range(len(source_db)):  # Storing all the data in a list which can then be saved in an excel file\n",
    "            diff_data.append({\n",
    "                'Database Name': database,\n",
    "                'KPI': kpi_name,\n",
    "                'Categorized BY': chart_name,\n",
    "                'Measure': measure[i],\n",
    "                'Source Workbook Data Points': source_db[i],\n",
    "                'Database Data Points': qc_db[i]\n",
    "            })\n",
    "    odf = pd.DataFrame(diff_data)  # Storing the data into a data frame\n",
    "    output_file = os.path.join(output_file_location, f\"Output Feed.xlsx\")\n",
    "    odf.to_excel(output_file, index=False)  # Saving output\n",
    "    print(\"Results are Saved!!\")\n",
    "            "
   ]
  },
  {
   "cell_type": "code",
   "execution_count": 42,
   "metadata": {},
   "outputs": [],
   "source": [
    "# Folder location to save Source Workbook, QC Workbook, and Compared data, Output Feed File, Control File and Tableau Auth Details File\n",
    "source_workbook_data_location = \"/workspaces/Tableau_Python/Workbook Data/Dashboard to Database/Source Workbook Data\"\n",
    "sql_server_authentication_details_file_location = \"/workspaces/Tableau_Python/SQL Server Auth Details.txt\"\n",
    "database_data_location = \"Workbook Data/Dashboard to Database/Database Data\"\n",
    "compared_data_location = \"Workbook Data/Dashboard to Database/Compared Data\"\n",
    "tableau_authentication_details_file_location = \"Tableau Auth Details.txt\"\n",
    "output_file_location = \"Workbook Data/Dashboard to Database\"\n",
    "control_file_location = \"/workspaces/Tableau_Python/Control_File.xlsx\""
   ]
  },
  {
   "cell_type": "code",
   "execution_count": 43,
   "metadata": {},
   "outputs": [],
   "source": [
    "# Reading the Control File: SQL Server Auth Details\n",
    "with open(sql_server_authentication_details_file_location, 'r') as details:\n",
    "    user_details = details.readlines()\n",
    "server_address = user_details[0].strip().replace(\"Server Address: \", \"\")  # SQL server address\n",
    "database = user_details[1].strip().replace(\"Database Name: \", \"\")  # Database Name\n",
    "username_sql = user_details[2].strip().replace(\"User Name: \", \"\")  # Username to login in to the server\n",
    "password_sql = user_details[3].strip().replace(\"Password: \", \"\")  # Password"
   ]
  },
  {
   "cell_type": "code",
   "execution_count": 44,
   "metadata": {},
   "outputs": [],
   "source": [
    "# Reading the Control File: Tableau Auth Details\n",
    "with open(tableau_authentication_details_file_location, 'r') as details:\n",
    "    user_details = details.readlines()\n",
    "user_name = user_details[0].strip().replace('User Name: ', '')  # Tableau Cloud User Name\n",
    "password = user_details[1].strip().replace('Password: ', '')  # Tableau Cloud Password\n",
    "site_id = user_details[2].strip().replace('Site-ID: ', '')  # Tableau Cloud Site-ID\n",
    "tableau_cloud_url = user_details[3].strip().replace('Cloud URL: ', '')  # Tableau Cloud URL"
   ]
  },
  {
   "cell_type": "code",
   "execution_count": 45,
   "metadata": {},
   "outputs": [],
   "source": [
    "# Reading the Control_File.xlsx\n",
    "control_df = pd.read_excel(control_file_location)\n",
    "control_df['row number'] = control_df.reset_index().index  # Reset the index\n",
    "control_source_df = control_df[['row number', 'Dashboard', 'Parameter Name', 'Parameter Value']]  # Reading the columns required into a dataframe\n",
    "control_db_df = control_df[['QC_Query']]"
   ]
  },
  {
   "cell_type": "code",
   "execution_count": 46,
   "metadata": {},
   "outputs": [],
   "source": [
    "tableau_auth, server = tableau_authentication(user_name, password, site_id, tableau_cloud_url)  # Authenticating with the server"
   ]
  },
  {
   "cell_type": "code",
   "execution_count": 47,
   "metadata": {},
   "outputs": [
    {
     "name": "stdout",
     "output_type": "stream",
     "text": [
      "Failed to connect or execute the query: ('HYT00', '[HYT00] [Microsoft][ODBC Driver 17 for SQL Server]Login timeout expired (0) (SQLDriverConnect)')\n"
     ]
    },
    {
     "ename": "UnboundLocalError",
     "evalue": "cannot access local variable 'name' where it is not associated with a value",
     "output_type": "error",
     "traceback": [
      "\u001b[0;31m---------------------------------------------------------------------------\u001b[0m",
      "\u001b[0;31mUnboundLocalError\u001b[0m                         Traceback (most recent call last)",
      "Cell \u001b[0;32mIn[47], line 2\u001b[0m\n\u001b[1;32m      1\u001b[0m \u001b[38;5;66;03m# save_tableau_data(control_source_df, source_workbook_data_location, tableau_auth, server)  # Downloading and Saving the data from the Tableau Dashboard\u001b[39;00m\n\u001b[0;32m----> 2\u001b[0m \u001b[43msave_sql_data\u001b[49m\u001b[43m(\u001b[49m\u001b[43mcontrol_db_df\u001b[49m\u001b[43m,\u001b[49m\u001b[43m \u001b[49m\u001b[43mserver_address\u001b[49m\u001b[43m,\u001b[49m\u001b[43m \u001b[49m\u001b[43mdatabase\u001b[49m\u001b[43m,\u001b[49m\u001b[43m \u001b[49m\u001b[43musername_sql\u001b[49m\u001b[43m,\u001b[49m\u001b[43m \u001b[49m\u001b[43mpassword_sql\u001b[49m\u001b[43m \u001b[49m\u001b[43m,\u001b[49m\u001b[43m \u001b[49m\u001b[43mdatabase_data_location\u001b[49m\u001b[43m)\u001b[49m  \u001b[38;5;66;03m# Downloading and Saving the data from SQL database\u001b[39;00m\n",
      "Cell \u001b[0;32mIn[38], line 5\u001b[0m, in \u001b[0;36msave_sql_data\u001b[0;34m(control_df, server_address, database, username, password, save_location)\u001b[0m\n\u001b[1;32m      2\u001b[0m \u001b[38;5;28;01mfor\u001b[39;00m f \u001b[38;5;129;01min\u001b[39;00m \u001b[38;5;28mrange\u001b[39m(\u001b[38;5;28mlen\u001b[39m(control_df)):\n\u001b[1;32m      3\u001b[0m     query \u001b[38;5;241m=\u001b[39m control_df\u001b[38;5;241m.\u001b[39mloc[f, \u001b[38;5;124m'\u001b[39m\u001b[38;5;124mQC_Query\u001b[39m\u001b[38;5;124m'\u001b[39m]  \u001b[38;5;66;03m# Passing the queries one by one to the function\u001b[39;00m\n\u001b[0;32m----> 5\u001b[0m     \u001b[43msql_data_download\u001b[49m\u001b[43m(\u001b[49m\u001b[43mserver_address\u001b[49m\u001b[43m,\u001b[49m\u001b[43m \u001b[49m\u001b[43mdatabase\u001b[49m\u001b[43m,\u001b[49m\u001b[43m \u001b[49m\u001b[43musername\u001b[49m\u001b[43m,\u001b[49m\u001b[43m \u001b[49m\u001b[43mpassword\u001b[49m\u001b[43m,\u001b[49m\u001b[43m \u001b[49m\u001b[43mquery\u001b[49m\u001b[43m,\u001b[49m\u001b[43m \u001b[49m\u001b[43msave_location\u001b[49m\u001b[43m)\u001b[49m\n",
      "Cell \u001b[0;32mIn[35], line 22\u001b[0m, in \u001b[0;36msql_data_download\u001b[0;34m(server, database, username, password, query, output_file_path)\u001b[0m\n\u001b[1;32m     20\u001b[0m \u001b[38;5;28;01mexcept\u001b[39;00m \u001b[38;5;167;01mException\u001b[39;00m \u001b[38;5;28;01mas\u001b[39;00m ex:\n\u001b[1;32m     21\u001b[0m     \u001b[38;5;28mprint\u001b[39m(\u001b[38;5;124mf\u001b[39m\u001b[38;5;124m\"\u001b[39m\u001b[38;5;124mAn error occurred: \u001b[39m\u001b[38;5;132;01m{\u001b[39;00mex\u001b[38;5;132;01m}\u001b[39;00m\u001b[38;5;124m\"\u001b[39m)\n\u001b[0;32m---> 22\u001b[0m \u001b[38;5;28mprint\u001b[39m(\u001b[38;5;124mf\u001b[39m\u001b[38;5;124m\"\u001b[39m\u001b[38;5;124mQuery results saved for \u001b[39m\u001b[38;5;132;01m{\u001b[39;00m\u001b[43mname\u001b[49m\u001b[38;5;132;01m}\u001b[39;00m\u001b[38;5;124m\"\u001b[39m)\n",
      "\u001b[0;31mUnboundLocalError\u001b[0m: cannot access local variable 'name' where it is not associated with a value"
     ]
    }
   ],
   "source": [
    "# save_tableau_data(control_source_df, source_workbook_data_location, tableau_auth, server)  # Downloading and Saving the data from the Tableau Dashboard\n",
    "save_sql_data(control_db_df, server_address, database, username_sql, password_sql , database_data_location)  # Downloading and Saving the data from SQL database"
   ]
  },
  {
   "cell_type": "code",
   "execution_count": null,
   "metadata": {},
   "outputs": [
    {
     "name": "stdout",
     "output_type": "stream",
     "text": [
      "Comparison result are saved!!\n"
     ]
    }
   ],
   "source": [
    "compare_data(source_workbook_data_location, database_data_location, compared_data_location)  # Comparing data"
   ]
  },
  {
   "cell_type": "code",
   "execution_count": null,
   "metadata": {},
   "outputs": [
    {
     "name": "stdout",
     "output_type": "stream",
     "text": [
      "Results are Saved!!\n"
     ]
    }
   ],
   "source": [
    "output_feed(compared_data_location, output_file_location, database)  # Saving the Output Feed File for Tableau QC Dashboard"
   ]
  }
 ],
 "metadata": {
  "kernelspec": {
   "display_name": "Python 3",
   "language": "python",
   "name": "python3"
  },
  "language_info": {
   "codemirror_mode": {
    "name": "ipython",
    "version": 3
   },
   "file_extension": ".py",
   "mimetype": "text/x-python",
   "name": "python",
   "nbconvert_exporter": "python",
   "pygments_lexer": "ipython3",
   "version": "3.12.1"
  }
 },
 "nbformat": 4,
 "nbformat_minor": 2
}
