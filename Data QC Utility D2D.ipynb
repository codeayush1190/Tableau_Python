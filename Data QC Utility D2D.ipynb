{
 "cells": [
  {
   "cell_type": "markdown",
   "metadata": {},
   "source": [
    "Data QC Utility D2D"
   ]
  },
  {
   "cell_type": "code",
   "execution_count": 21,
   "metadata": {},
   "outputs": [],
   "source": [
    "import os\n",
    "import numpy as np \n",
    "import pandas as pd \n",
    "from io import BytesIO\n",
    "from fuzzywuzzy import process\n",
    "import tableauserverclient as TSC "
   ]
  },
  {
   "cell_type": "code",
   "execution_count": 22,
   "metadata": {},
   "outputs": [],
   "source": [
    "def tableau_authentication(user_name, password, site_id, tableau_cloud_url):\n",
    "    tableau_auth = TSC.TableauAuth(user_name, password, site_id)  # Tableau Authentication details 'username', 'password' and 'site-id'\n",
    "    server = TSC.Server(tableau_cloud_url, use_server_version=True)  # Tableau server url\n",
    "    return tableau_auth, server  # Returning the variables"
   ]
  },
  {
   "cell_type": "code",
   "execution_count": 23,
   "metadata": {},
   "outputs": [],
   "source": [
    "def download_parameter_data(workbook_name, parameter_name, parameter_value, save_location, tableau_auth, server):\n",
    "    with server.auth.sign_in(tableau_auth):  # Server login\n",
    "        all_workbooks, pagination_item = server.workbooks.get()  # Finds all the workbook present on the server\n",
    "        target_workbook = next((wb for wb in all_workbooks if wb.name == workbook_name), None)  # Matches with the target workbook\n",
    "        if not target_workbook:\n",
    "            raise ValueError(f\"Workbook {workbook_name} not found.\")\n",
    "        \n",
    "        server.workbooks.populate_views(target_workbook)  # Finds all the sheets present in the dashboard \n",
    "        for target_view in target_workbook.views:  # The loop goes through all the sheets present in the workbook one by one\n",
    "            sheet_name = target_view.name\n",
    "            options = TSC.CSVRequestOptions()\n",
    "            options.vf(parameter_name, parameter_value)  # Parameter is applied\n",
    "            try:\n",
    "                server.views.populate_csv(target_view, req_options=options)  # The sheet data is extracted\n",
    "            except TSC.ServerResponseError as e:\n",
    "                print(f\"Error querying data for Parameter {parameter_value}: {e}\")\n",
    "                continue\n",
    "\n",
    "            csv_data = BytesIO(b''.join(target_view.csv))  # The sheet data is converted to csv format\n",
    "            df = pd.read_csv(csv_data)  # Read into pandas DataFrame\n",
    "            df = df.drop_duplicates()  # Remove duplicates to ensure clean data\n",
    "            file_name = os.path.join(save_location, f\"{parameter_value} {sheet_name}.xlsx\")  # Save each parameter's data into a separate Excel file\n",
    "            df.to_excel(file_name, index=False)\n",
    "    print(f\"{parameter_value} data downloaded for {workbook_name} to location! \")"
   ]
  },
  {
   "cell_type": "code",
   "execution_count": 24,
   "metadata": {},
   "outputs": [],
   "source": [
    "def save_data(control_df, save_location, tableau_auth, server):\n",
    "    for f in range(len(control_df)):\n",
    "        workbook_name  = control_df.loc[f,'Dashboard']  # Targetted dashboard name\n",
    "        parameter_name = control_df.loc[f,'Parameter Name']  # Parameter in the workbook\n",
    "        parameter_value = control_df.loc[f,'Parameter Value']  # All the values of the parameter\n",
    "        if workbook_name is np.nan:\n",
    "            break\n",
    "        else:  \n",
    "            download_parameter_data(workbook_name, parameter_name, parameter_value, save_location, tableau_auth, server)"
   ]
  },
  {
   "cell_type": "code",
   "execution_count": 25,
   "metadata": {},
   "outputs": [],
   "source": [
    "def compare_data(source_workbook_data_location, QC_workbook_data_location, compared_data_location):\n",
    "    source_files = {f for f in os.listdir(source_workbook_data_location) if os.path.isfile(os.path.join(source_workbook_data_location, f))}  # Reading all the files present in the Source Workbook Data\n",
    "    QC_files = {f for f in os.listdir(QC_workbook_data_location) if os.path.isfile(os.path.join(QC_workbook_data_location, f))}  # Reading all the files present in the QC Workbook Data\n",
    "    common_files = source_files.intersection(QC_files)  # Checking for the common files\n",
    "    if not common_files:\n",
    "        print(\"No common files to compare.\")\n",
    "        return\n",
    "    for file_name in common_files:\n",
    "        if 'Dashboard' not in file_name:\n",
    "            source_file_path = os.path.join(source_workbook_data_location, file_name)  # Getting the Source Data File path\n",
    "            QC_file_path = os.path.join(QC_workbook_data_location, file_name)  # Getting the QC Data File path\n",
    "            output_path = os.path.join(compared_data_location, f\"{file_name}\")  # Output Path to save the Comparision Results\n",
    "            try:\n",
    "                sdf = pd.read_excel(source_file_path)  # Reading the excel files\n",
    "                qcdf = pd.read_excel(QC_file_path)\n",
    "                with pd.ExcelWriter(output_path) as writer:\n",
    "                    if sdf.equals(qcdf):  # Checking if the files are equal or not\n",
    "                        print(f\"The {file_name} files have no difference and the data will not be saved!!\")\n",
    "                    else:\n",
    "                        comparision_result  = sdf.compare(qcdf)  # Comparing the files\n",
    "                        comparision_result.to_excel(writer, sheet_name='Differences', index=True)\n",
    "            except Exception as e:\n",
    "                print(f\"Error comparing '{file_name}': {e}\")\n",
    "    print(f\"Comparison result are saved!!\")"
   ]
  },
  {
   "cell_type": "code",
   "execution_count": 26,
   "metadata": {},
   "outputs": [],
   "source": [
    "def get_group(file_name, path):  # Function to get the group name \n",
    "    files = {f for f in os.listdir(path) if os.path.isfile(os.path.join(path, f))}\n",
    "    group_name_1 = []\n",
    "    group_name = []\n",
    "    for file in files:\n",
    "        if file == file_name:\n",
    "            measure = file_name.split(' ')[2].strip().replace('.xlsx', '')\n",
    "            file_path = os.path.join(path, file)\n",
    "            df = pd.read_excel(file_path)\n",
    "            measure_1 = process.extractOne(measure, df.columns)[0]\n",
    "            group_name_1 = df[measure_1]\n",
    "            for i in group_name_1:\n",
    "                if i is not np.nan:\n",
    "                    group_name.append(i)  \n",
    "            return group_name"
   ]
  },
  {
   "cell_type": "code",
   "execution_count": 27,
   "metadata": {},
   "outputs": [],
   "source": [
    "def output(compared_data_location, output_file_location, source_workbook_data_location, control_df):\n",
    "    files = {f for f in os.listdir(compared_data_location) if os.path.isfile(os.path.join(compared_data_location, f))}  # Reading all the comparision results\n",
    "    diff_data = []  # Creating a empty list to store all the data\n",
    "    for file in files:  # Reading all the files one by one\n",
    "        source_db = []  # To store the data points\n",
    "        QC_db = []\n",
    "        group = []\n",
    "        file_path = os.path.join(compared_data_location, file)\n",
    "        dashboard_name = control_df['QC Dashboard'][0]  # Getting the dashboard name\n",
    "        kpi_name = file.split(' ')[0]  # Getting the KPI value of the sheet being processed\n",
    "        chart_name = file.replace('.xlsx', '')  # Getting the Chart Name of the sheet being processed\n",
    "        group = get_group(file, source_workbook_data_location)  # Extracting the name of the measure the data is grouped by\n",
    "        df = pd.read_excel(file_path)\n",
    "        if 'Measure Calculation' in df.columns:  # Checking if the Measure Calculation column is present\n",
    "            colindex = df.columns.get_loc('Measure Calculation')  # Getting the column number of the Measure Calculation column\n",
    "            if colindex + 1 < len(df.columns):  # Checking if the column next to Measure Calculation column is within the columns present in the sheet\n",
    "                qcdb_name = df.columns[colindex + 1]\n",
    "                sdb = df['Measure Calculation'].replace('self', np.nan).dropna()  # Extracting the values\n",
    "                qcdb = df[qcdb_name].replace('other', np.nan).dropna()\n",
    "                for n in sdb:\n",
    "                    source_db.append(float(n.replace(',', '')))  # Storing the one by one into a list by converting the data type to float\n",
    "                for n in qcdb:\n",
    "                    QC_db.append(float(n.replace(',', '')))       \n",
    "        for i in range(len(source_db)):\n",
    "            diff_data.append({  # Adding all the data together into a list\n",
    "                'Dashboard Name': dashboard_name,\n",
    "                'Chart Name': chart_name,\n",
    "                'KPI': kpi_name,\n",
    "                'Data Measure': group[i],             \n",
    "                'Source Workbook Data Points': source_db[i],\n",
    "                'QC Workbook Data Points': QC_db[i]\n",
    "        })\n",
    "    odf = pd.DataFrame(diff_data)  # Storing the data into a data frame\n",
    "    output_file = os.path.join(output_file_location, f\"Output Feed.xlsx\")\n",
    "    odf.to_excel(output_file, index=False)  # Saving output\n",
    "    print(\"Results are Saved!!\")"
   ]
  },
  {
   "cell_type": "code",
   "execution_count": 28,
   "metadata": {},
   "outputs": [],
   "source": [
    "# Folder location to save Source Workbook, QC Workbook, and Compared data, Output Feed File, Control File and Tableau Auth Details File\n",
    "source_workbook_data_location = \"/workspaces/Tableau_Python/Workbook Data/Dashboard to Dashboard/Source Workbook Data\"\n",
    "QC_workbook_data_location = \"Workbook Data/Dashboard to Dashboard/QC Workbook Data\"\n",
    "compared_data_location = \"/workspaces/Tableau_Python/Workbook Data/Dashboard to Dashboard/Compared Data\"\n",
    "tableau_authentication_details_file_location = \"/workspaces/Tableau_Python/Tableau Auth Details.txt\"\n",
    "output_file_location = \"/workspaces/Tableau_Python/Workbook Data/Dashboard to Dashboard\"\n",
    "control_file_location = \"/workspaces/Tableau_Python/Control_File.xlsx\""
   ]
  },
  {
   "cell_type": "code",
   "execution_count": 29,
   "metadata": {},
   "outputs": [],
   "source": [
    "# Reading the Control File: Tableau Auth Details\n",
    "with open(tableau_authentication_details_file_location, 'r') as details:\n",
    "    user_details = details.readlines()\n",
    "user_name = user_details[0].strip().replace('User Name: ', '')  # Tableau Cloud User Name\n",
    "password = user_details[1].strip().replace('Password: ', '')  # Tableau Cloud Password\n",
    "site_id = user_details[2].strip().replace('Site-ID: ', '')  # Tableau Cloud Site-ID\n",
    "tableau_cloud_url = user_details[3].strip().replace('Cloud URL: ', '')  # Tableau Cloud URL"
   ]
  },
  {
   "cell_type": "code",
   "execution_count": 30,
   "metadata": {},
   "outputs": [],
   "source": [
    "# Reading the Control_file\n",
    "control_df = pd.read_excel(control_file_location)\n",
    "control_df['row_number'] = control_df.reset_index().index\n",
    "control_source_df = control_df[[\"row_number\",\"Dashboard\",\"Parameter Name\",\"Parameter Value\"]]  # Getting the Source Workbook Details\n",
    "control_QC_df = control_df[[\"row_number\",\"QC Dashboard\",\"QC Parameter Name\",\"QC Parameter Value\"]]  # Getting the QC Workbook Details\n",
    "control_QC_df = control_QC_df.rename(columns={'QC Dashboard': 'Dashboard', 'QC Parameter Name': 'Parameter Name','QC Parameter Value': 'Parameter Value', })  # Renaming the column names of the QC Workbook details"
   ]
  },
  {
   "cell_type": "code",
   "execution_count": 31,
   "metadata": {},
   "outputs": [],
   "source": [
    "tableau_auth, server = tableau_authentication(user_name, password, site_id, tableau_cloud_url)  # Authenticating to the Tableau Cloud"
   ]
  },
  {
   "cell_type": "code",
   "execution_count": null,
   "metadata": {},
   "outputs": [],
   "source": [
    "save_data(control_source_df, source_workbook_data_location, tableau_auth, server)  # Downloads the Source Workbook Data\n",
    "save_data(control_QC_df, QC_workbook_data_location, tableau_auth, server)  # Downloads the QC Workbook Data"
   ]
  },
  {
   "cell_type": "code",
   "execution_count": null,
   "metadata": {},
   "outputs": [],
   "source": [
    "compare_data(source_workbook_data_location, QC_workbook_data_location, compared_data_location)  # Save the comparision results"
   ]
  },
  {
   "cell_type": "code",
   "execution_count": null,
   "metadata": {},
   "outputs": [],
   "source": [
    "output(compared_data_location, output_file_location, source_workbook_data_location, control_df)  # Saving the Output Feed file for Tableau"
   ]
  }
 ],
 "metadata": {
  "kernelspec": {
   "display_name": "Python 3",
   "language": "python",
   "name": "python3"
  },
  "language_info": {
   "codemirror_mode": {
    "name": "ipython",
    "version": 3
   },
   "file_extension": ".py",
   "mimetype": "text/x-python",
   "name": "python",
   "nbconvert_exporter": "python",
   "pygments_lexer": "ipython3",
   "version": "3.12.1"
  }
 },
 "nbformat": 4,
 "nbformat_minor": 2
}
